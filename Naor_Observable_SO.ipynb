{
 "cells": [
  {
   "cell_type": "code",
   "execution_count": 34,
   "metadata": {},
   "outputs": [],
   "source": [
    "import numpy as np\n",
    "import scipy as sp\n",
    "from scipy import optimize\n",
    "import matplotlib.pyplot as plt\n",
    "from sympy.solvers import solve\n",
    "from sympy import Symbol\n",
    "import math as mt"
   ]
  },
  {
   "cell_type": "markdown",
   "metadata": {},
   "source": [
    "## Problem 1"
   ]
  },
  {
   "cell_type": "code",
   "execution_count": 5,
   "metadata": {},
   "outputs": [],
   "source": [
    "#define parameters\n",
    "R = 5.0\n",
    "C = 2.0\n",
    "mu = 10.0\n",
    "lambd = 8.0\n",
    "rho = lambd/mu"
   ]
  },
  {
   "cell_type": "code",
   "execution_count": 17,
   "metadata": {},
   "outputs": [],
   "source": [
    "#define social rate function\n",
    "def f(n):\n",
    "    return lambd*R*((1-rho**n)/(1-rho**(n+1)))-(C*((rho/(1-rho))-((n+1)*rho**(n+1))/(1-rho**(n+1))))"
   ]
  },
  {
   "cell_type": "code",
   "execution_count": 29,
   "metadata": {},
   "outputs": [
    {
     "data": {
      "image/png": "[encoded data removed]",
      "text/plain": [
       "<matplotlib.figure.Figure at 0x112559198>"
      ]
     },
     "metadata": {},
     "output_type": "display_data"
    }
   ],
   "source": [
    "#plot expected social benefit rate vs n\n",
    "\n",
    "for n in range(1,40,1):\n",
    "    plt.plot(n, f(n), marker = \"o\")\n",
    "plt.title('expected social benefit rate vs n')\n",
    "plt.show()"
   ]
  },
  {
   "cell_type": "code",
   "execution_count": 19,
   "metadata": {},
   "outputs": [],
   "source": [
    "#find the exact max value and associated n value, define the benefit\n",
    "#rate again\n",
    "def SO(n):\n",
    "    return lambd*R*((1-rho**n[0])/(1-rho**(n[0]+1)))-C*((rho/(1-rho))-((n[0]+1)*rho**(n[0]+1))/(1-rho**(n[0]+1)))"
   ]
  },
  {
   "cell_type": "code",
   "execution_count": 20,
   "metadata": {},
   "outputs": [
    {
     "name": "stdout",
     "output_type": "stream",
     "text": [
      "Optimization terminated successfully.\n",
      "         Current function value: -33.240874\n",
      "         Iterations: 56\n",
      "         Function evaluations: 96\n"
     ]
    },
    {
     "data": {
      "text/plain": [
       "array([ 7.86098027, -3.93528052])"
      ]
     },
     "execution_count": 20,
     "metadata": {},
     "output_type": "execute_result"
    }
   ],
   "source": [
    "sp.optimize.fmin(lambda n: -SO(n), np.array([0,0]))"
   ]
  },
  {
   "cell_type": "markdown",
   "metadata": {},
   "source": [
    "### As shown above result, when n* $\\approx$ 8, the social benefit rate reaches maximum where the social maximum rate is about 33.24."
   ]
  },
  {
   "cell_type": "code",
   "execution_count": 12,
   "metadata": {},
   "outputs": [
    {
     "name": "stdout",
     "output_type": "stream",
     "text": [
      "25.0\n"
     ]
    }
   ],
   "source": [
    "#calculate individual optimize system size\n",
    "n_e = (R * mu)/C\n",
    "print(n_e)"
   ]
  },
  {
   "cell_type": "markdown",
   "metadata": {},
   "source": [
    "### n* = 10 < $n_{e}$ = 25, socially optimal system size is less than the individually optimal system size $n_{e}$."
   ]
  },
  {
   "cell_type": "code",
   "execution_count": 22,
   "metadata": {},
   "outputs": [
    {
     "data": {
      "text/plain": [
       "[3.40000000000000]"
      ]
     },
     "execution_count": 22,
     "metadata": {},
     "output_type": "execute_result"
    }
   ],
   "source": [
    "p = Symbol('p')\n",
    "solve(((R - p)*mu)/C - 8, p)"
   ]
  },
  {
   "cell_type": "markdown",
   "metadata": {},
   "source": [
    "### when p = 3.4, n* = $n_{e}$, the lowest toll is 3.4."
   ]
  },
  {
   "cell_type": "markdown",
   "metadata": {},
   "source": [
    "## Problem 2"
   ]
  },
  {
   "cell_type": "code",
   "execution_count": 23,
   "metadata": {},
   "outputs": [],
   "source": [
    "def z_n(n):\n",
    "    return lambd*((1-rho**n)/(1-rho**(n+1)))*(R - (C*n)/mu)"
   ]
  },
  {
   "cell_type": "code",
   "execution_count": 31,
   "metadata": {},
   "outputs": [
    {
     "data": {
      "image/png": "[encoded data removed]",
      "text/plain": [
       "<matplotlib.figure.Figure at 0x11360d710>"
      ]
     },
     "metadata": {},
     "output_type": "display_data"
    }
   ],
   "source": [
    "for n in range(1,40,1):\n",
    "    plt.plot(n, z_n(n), marker = \"o\")\n",
    "plt.title('expected profit rate vs n')\n",
    "plt.show()"
   ]
  },
  {
   "cell_type": "code",
   "execution_count": 27,
   "metadata": {},
   "outputs": [],
   "source": [
    "#define the profit function again in array form for optimizer\n",
    "def z_n_a(n):\n",
    "    return lambd*((1-rho**n[0])/(1-rho**(n[0]+1)))*(R - (C*n[0])/mu)"
   ]
  },
  {
   "cell_type": "code",
   "execution_count": 28,
   "metadata": {},
   "outputs": [
    {
     "name": "stdout",
     "output_type": "stream",
     "text": [
      "Optimization terminated successfully.\n",
      "         Current function value: -29.507398\n",
      "         Iterations: 49\n",
      "         Function evaluations: 84\n"
     ]
    },
    {
     "data": {
      "text/plain": [
       "array([ 3.93776678, -1.97132956])"
      ]
     },
     "execution_count": 28,
     "metadata": {},
     "output_type": "execute_result"
    }
   ],
   "source": [
    "sp.optimize.fmin(lambda n: -z_n_a(n), np.array([0,0]))"
   ]
  },
  {
   "cell_type": "markdown",
   "metadata": {},
   "source": [
    "### $n_{m}$ $\\approx$ 4, $n_{m}$ < n*"
   ]
  },
  {
   "cell_type": "markdown",
   "metadata": {},
   "source": [
    "## Problem 4"
   ]
  },
  {
   "cell_type": "code",
   "execution_count": 145,
   "metadata": {},
   "outputs": [],
   "source": [
    "rho4 = 0.95\n",
    "def p0_cal(c):\n",
    "    sec_part = 0\n",
    "    for j in range(0, c, 1):\n",
    "        sec_part = sec_part + ((c*rho4)**j)/mt.factorial(j)\n",
    "    return (((c*rho4)**c)/((1-rho4)*mt.factorial(c)) + sec_part)**(-1)"
   ]
  },
  {
   "cell_type": "code",
   "execution_count": 154,
   "metadata": {},
   "outputs": [
    {
     "name": "stdout",
     "output_type": "stream",
     "text": [
      "c =  1 , fraction delayed =  0.95 , expected delay time =  18.999999999999982\n",
      "c =  2 , fraction delayed =  0.9256410256410256 , expected delay time =  1.7631257631257629\n",
      "c =  4 , fraction delayed =  0.8914189951776734 , expected delay time =  1.1690740920362932\n",
      "c =  8 , fraction delayed =  0.844168630609684 , expected delay time =  0.9579218503372301\n",
      "c =  16 , fraction delayed =  0.780192462248371 , expected delay time =  0.8294404914268395\n",
      "c =  32 , fraction delayed =  0.6957101141665399 , expected delay time =  0.7169959308640669\n"
     ]
    }
   ],
   "source": [
    "for c in [1, 2, 4, 8, 16, 32]:\n",
    "    p0 = p0_cal(c)\n",
    "    d_frac = p0*((c**c)/mt.factorial(c))*((rho4**c)/(1 - rho4))\n",
    "    d_exp = (1/(1 - rho4*(1/c))) * d_frac\n",
    "    print('c = ', c, \",\", 'fraction delayed = ', d_frac, ', expected delay time = ', d_exp)"
   ]
  }
 ],
 "metadata": {
  "kernelspec": {
   "display_name": "Python 3",
   "language": "python",
   "name": "python3"
  },
  "language_info": {
   "codemirror_mode": {
    "name": "ipython",
    "version": 3
   },
   "file_extension": ".py",
   "mimetype": "text/x-python",
   "name": "python",
   "nbconvert_exporter": "python",
   "pygments_lexer": "ipython3",
   "version": "3.6.1"
  }
 },
 "nbformat": 4,
 "nbformat_minor": 2
}
